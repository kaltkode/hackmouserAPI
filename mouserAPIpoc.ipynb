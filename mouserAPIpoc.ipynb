{
 "cells": [
  {
   "cell_type": "markdown",
   "metadata": {},
   "source": [
    "\n",
    "# Get prices from Mouser Search API\n",
    "\n",
    "### input \n",
    "##### a) serial\n",
    "#### b) serial from excel\n",
    "\n",
    "### output\n",
    "#### a) price in JSON\n",
    "#### b) append price info in Excel\n",
    "\n"
   ]
  },
  {
   "cell_type": "code",
   "execution_count": 97,
   "metadata": {},
   "outputs": [
    {
     "name": "stdout",
     "output_type": "stream",
     "text": [
      "Read BOM in from csv/Excel file\n"
     ]
    },
    {
     "data": {
      "text/html": [
       "<div>\n",
       "<style scoped>\n",
       "    .dataframe tbody tr th:only-of-type {\n",
       "        vertical-align: middle;\n",
       "    }\n",
       "\n",
       "    .dataframe tbody tr th {\n",
       "        vertical-align: top;\n",
       "    }\n",
       "\n",
       "    .dataframe thead th {\n",
       "        text-align: right;\n",
       "    }\n",
       "</style>\n",
       "<table border=\"1\" class=\"dataframe\">\n",
       "  <thead>\n",
       "    <tr style=\"text-align: right;\">\n",
       "      <th></th>\n",
       "      <th>partno</th>\n",
       "      <th>price_1</th>\n",
       "    </tr>\n",
       "  </thead>\n",
       "  <tbody>\n",
       "    <tr>\n",
       "      <th>0</th>\n",
       "      <td>'CC1352P74T0RGZR'</td>\n",
       "      <td>0</td>\n",
       "    </tr>\n",
       "    <tr>\n",
       "      <th>1</th>\n",
       "      <td>'STM32F373VBH6'</td>\n",
       "      <td>0</td>\n",
       "    </tr>\n",
       "  </tbody>\n",
       "</table>\n",
       "</div>"
      ],
      "text/plain": [
       "              partno  price_1\n",
       "0  'CC1352P74T0RGZR'        0\n",
       "1    'STM32F373VBH6'        0"
      ]
     },
     "execution_count": 97,
     "metadata": {},
     "output_type": "execute_result"
    }
   ],
   "source": [
    "print(\"Read BOM in from csv/Excel file\")\n",
    "\n",
    "import numpy as np\n",
    "import pandas as pd\n",
    "bom_data = pd.read_csv('bom.csv', sep=';', nrows=212)\n",
    "bom_data.head()"
   ]
  },
  {
   "cell_type": "code",
   "execution_count": 76,
   "metadata": {},
   "outputs": [],
   "source": [
    "#serial\n",
    "#mouserPartNumber = \"CC1352P74T0RGZR\"\n",
    "#mouserPartNumber = 'STM32F373VBH6'\n"
   ]
  },
  {
   "cell_type": "code",
   "execution_count": 87,
   "metadata": {},
   "outputs": [
    {
     "name": "stdout",
     "output_type": "stream",
     "text": [
      "Full API Response\n",
      "{'Errors': [], 'SearchResults': {'NumberOfResult': 1, 'Parts': [{'Availability': '7061 In Stock', 'DataSheetUrl': '', 'Description': 'RF Microcontrollers - MCU SimpleLink Arm Cortex -M4F multiprotocol sub-1 GHz and 2.4-GHz wireless MCU integrated power amp', 'FactoryStock': '0', 'ImagePath': 'https://www.mouser.com/images/texasinstruments/images/ITP_TI_VQFN-48_RGZ_t.jpg', 'Category': 'RF Microcontrollers - MCU', 'LeadTime': '182 Days', 'LifecycleStatus': 'New Product', 'Manufacturer': 'Texas Instruments', 'ManufacturerPartNumber': 'CC1352P74T0RGZR', 'Min': '1', 'Mult': '1', 'MouserPartNumber': '595-CC1352P74T0RGZR', 'ProductAttributes': [{'AttributeName': 'Packaging', 'AttributeValue': 'Reel'}, {'AttributeName': 'Packaging', 'AttributeValue': 'Cut Tape'}, {'AttributeName': 'Standard Pack Qty', 'AttributeValue': '2500'}], 'PriceBreaks': [{'Quantity': 1, 'Price': '11,60 €', 'Currency': 'EUR'}, {'Quantity': 10, 'Price': '10,48 €', 'Currency': 'EUR'}, {'Quantity': 25, 'Price': '9,99 €', 'Currency': 'EUR'}, {'Quantity': 100, 'Price': '8,68 €', 'Currency': 'EUR'}, {'Quantity': 250, 'Price': '8,29 €', 'Currency': 'EUR'}, {'Quantity': 500, 'Price': '7,56 €', 'Currency': 'EUR'}, {'Quantity': 1000, 'Price': '7,08 €', 'Currency': 'EUR'}, {'Quantity': 2500, 'Price': '7,07 €', 'Currency': 'EUR'}], 'AlternatePackagings': None, 'ProductDetailUrl': 'https://www.mouser.fi/ProductDetail/Texas-Instruments/CC1352P74T0RGZR?qs=Li%252BoUPsLEnuIv0d6gvGGUg%3D%3D', 'Reeling': True, 'ROHSStatus': 'RoHS Compliant', 'SuggestedReplacement': '', 'MultiSimBlue': 0, 'AvailabilityInStock': None, 'AvailabilityOnOrder': [], 'InfoMessages': [], 'ProductCompliance': [{'ComplianceName': 'USHTS', 'ComplianceValue': '8542310001'}, {'ComplianceName': 'ECCN', 'ComplianceValue': '5A992.C'}]}]}}\n"
     ]
    }
   ],
   "source": [
    "# importing the requests library\n",
    "import json\n",
    "\n",
    "import requests\n",
    "\n",
    "url = 'https://api.mouser.com/api/v1/search/partnumber?apiKey=5f94044f-ab8c-4884-8a78-aa053e00b751'\n",
    "\n",
    "r = requests.post(url, json= {\n",
    "  \"SearchByPartRequest\": {\n",
    "    \"mouserPartNumber\": 'CC1352P74T0RGZR',\n",
    "    \"partSearchOptions\": 'string'\n",
    "  }\n",
    "})\n",
    "\n",
    "x=r.json()\n",
    "print(\"Full API Response\")\n",
    "print(x)\n",
    "\n"
   ]
  },
  {
   "cell_type": "code",
   "execution_count": 90,
   "metadata": {},
   "outputs": [
    {
     "name": "stdout",
     "output_type": "stream",
     "text": [
      "Convert to str\n",
      "<class 'str'>\n"
     ]
    }
   ],
   "source": [
    "#curl -X POST \"https://api.mouser.com/api/v1/search/partnumber?apiKey=APIKEY\" -H \"accept: application/json\" -H \"Content-Type: application/json\" -d \"{ \\\"SearchByPartRequest\\\": { \\\"mouserPartNumber\\\": \\\"CC1352P74T0RGZR\\\", \\\"partSearchOptions\\\": \\\"string\\\" }}\"\n",
    "print(\"Convert to str\")\n",
    "#print (type(x))\n",
    "json_object = json.dumps(x, indent = 4)\n",
    "print (type(json_object))"
   ]
  },
  {
   "cell_type": "code",
   "execution_count": 91,
   "metadata": {},
   "outputs": [
    {
     "name": "stdout",
     "output_type": "stream",
     "text": [
      "Price for this component\n",
      "11,60 €\n"
     ]
    }
   ],
   "source": [
    "print(\"Price for this component\")\n",
    "# parse x:\n",
    "y = json.loads(json_object)\n",
    "\n",
    "# the result is a Python dictionary:\n",
    "price=y['SearchResults']['Parts'][0]['PriceBreaks'][0]['Price']\n",
    "print(price)  \n",
    "#print (type(y['SearchResults']['Parts']))\n",
    "\n"
   ]
  },
  {
   "cell_type": "code",
   "execution_count": 93,
   "metadata": {},
   "outputs": [
    {
     "name": "stdout",
     "output_type": "stream",
     "text": [
      "Add price in data frame for this component\n"
     ]
    },
    {
     "data": {
      "text/html": [
       "<div>\n",
       "<style scoped>\n",
       "    .dataframe tbody tr th:only-of-type {\n",
       "        vertical-align: middle;\n",
       "    }\n",
       "\n",
       "    .dataframe tbody tr th {\n",
       "        vertical-align: top;\n",
       "    }\n",
       "\n",
       "    .dataframe thead th {\n",
       "        text-align: right;\n",
       "    }\n",
       "</style>\n",
       "<table border=\"1\" class=\"dataframe\">\n",
       "  <thead>\n",
       "    <tr style=\"text-align: right;\">\n",
       "      <th></th>\n",
       "      <th>partno</th>\n",
       "      <th>price_1</th>\n",
       "    </tr>\n",
       "  </thead>\n",
       "  <tbody>\n",
       "    <tr>\n",
       "      <th>0</th>\n",
       "      <td>'CC1352P74T0RGZR'</td>\n",
       "      <td>11,60 €</td>\n",
       "    </tr>\n",
       "    <tr>\n",
       "      <th>1</th>\n",
       "      <td>'STM32F373VBH6'</td>\n",
       "      <td>0</td>\n",
       "    </tr>\n",
       "  </tbody>\n",
       "</table>\n",
       "</div>"
      ],
      "text/plain": [
       "              partno  price_1\n",
       "0  'CC1352P74T0RGZR'  11,60 €\n",
       "1    'STM32F373VBH6'        0"
      ]
     },
     "execution_count": 93,
     "metadata": {},
     "output_type": "execute_result"
    }
   ],
   "source": [
    "print(\"Add price in data frame for this component\")\n",
    "#bom_data.replace()\n",
    "#bom_data['price_1'] = bom_data['price_1'].replace([0], 0)\n",
    "\n",
    "\n",
    "bom_data.loc[0, 'price_1'] = price\n",
    "\n",
    "#bom_data.loc[bom_data.partno == 'CC1352P74T0RGZR', 'price_1'] = price\n",
    "\n",
    "bom_data.head()"
   ]
  },
  {
   "cell_type": "markdown",
   "metadata": {},
   "source": [
    "#### table can be written back into .csv / Excel....."
   ]
  },
  {
   "cell_type": "code",
   "execution_count": null,
   "metadata": {},
   "outputs": [],
   "source": []
  }
 ],
 "metadata": {
  "kernelspec": {
   "display_name": "Python 3",
   "language": "python",
   "name": "python3"
  },
  "language_info": {
   "codemirror_mode": {
    "name": "ipython",
    "version": 3
   },
   "file_extension": ".py",
   "mimetype": "text/x-python",
   "name": "python",
   "nbconvert_exporter": "python",
   "pygments_lexer": "ipython3",
   "version": "3.8.5"
  }
 },
 "nbformat": 4,
 "nbformat_minor": 4
}
